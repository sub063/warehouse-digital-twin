{
 "cells": [
  {
   "cell_type": "code",
   "execution_count": null,
   "id": "bca40df5-1a1d-480a-bb0f-cc8bc9c9ab87",
   "metadata": {},
   "outputs": [],
   "source": []
  }
 ],
 "metadata": {
  "kernelspec": {
   "display_name": "",
   "name": ""
  },
  "language_info": {
   "name": ""
  }
 },
 "nbformat": 4,
 "nbformat_minor": 5
}
